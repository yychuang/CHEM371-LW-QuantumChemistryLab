{
 "cells": [
  {
   "cell_type": "markdown",
   "metadata": {},
   "source": [
    "# fortecubeview\n",
    "\n",
    "fortecubeview is a simple cube file viewer. It is designed to work with `psi4` and `forte`. However, it should work with any cube file.\n",
    "\n",
    "The cube file in this directory were generated with the following psi4 input file:\n",
    "\n",
    "```\n",
    "import psi4\n",
    "\n",
    "h2o = psi4.geometry(\"\"\"\n",
    "O\n",
    "H 1 0.96\n",
    "H 1 0.96 2 104.5\n",
    "\"\"\")\n",
    "\n",
    "e, wfn = psi4.energy('scf/sto-3g', return_wfn=True)\n",
    "\n",
    "psi4.set_options({\n",
    "    'CUBEPROP_TASKS': ['ORBITALS','DENSITY'],\n",
    "    'CUBEPROP_ORBITALS': [5,6],\n",
    "    'CUBEPROP_FILEPATH': '.'\n",
    "})\n",
    "\n",
    "psi4.cubeprop(wfn)\n",
    "```\n",
    "\n",
    "---\n",
    "\n",
    "After installing `fortecubeview`, you can run it from a jupyter notebook by first importing it"
   ]
  },
  {
   "cell_type": "code",
   "execution_count": null,
   "metadata": {},
   "outputs": [],
   "source": [
    "import fortecubeview\n",
    "\n",
    "# shows the color schemes currently available\n",
    "print(f'Available color schemes: {fortecubeview.colorschemes}')"
   ]
  },
  {
   "cell_type": "code",
   "execution_count": null,
   "metadata": {},
   "outputs": [],
   "source": [
    "fortecubeview.plot(width=500,height=300,colorscheme='emory',sumlevel=0.75)"
   ]
  },
  {
   "cell_type": "markdown",
   "metadata": {},
   "source": [
    "---\n",
    "Here is a list of options you can pass to customize the look of the orbitals"
   ]
  },
  {
   "cell_type": "code",
   "execution_count": null,
   "metadata": {},
   "outputs": [],
   "source": [
    "help(fortecubeview.plot)"
   ]
  },
  {
   "cell_type": "markdown",
   "metadata": {},
   "source": [
    "## Visualizing molecules\n",
    "\n",
    "You can display xyz geometries using the `geom()` command. This can take an xyz string"
   ]
  },
  {
   "cell_type": "code",
   "execution_count": null,
   "metadata": {},
   "outputs": [],
   "source": [
    "xyz = \"\"\"\n",
    "O                     0.000000000000     0.000000000000    -0.065775570547\n",
    "H                     0.000000000000    -0.759061990794     0.521953018286\n",
    "H                     0.000000000000     0.759061990794     0.521953018286\n",
    "\"\"\"\n",
    "\n",
    "fortecubeview.geom(xyz = xyz)"
   ]
  },
  {
   "cell_type": "markdown",
   "metadata": {},
   "source": [
    "Alternatively, you can directly pass a psi4 Molecule object"
   ]
  },
  {
   "cell_type": "code",
   "execution_count": null,
   "metadata": {},
   "outputs": [],
   "source": [
    "import psi4\n",
    "\n",
    "h2o = psi4.geometry(\"\"\"\n",
    "O\n",
    "H 1 0.96\n",
    "H 1 0.96 2 104.5\n",
    "\"\"\")"
   ]
  },
  {
   "cell_type": "code",
   "execution_count": null,
   "metadata": {},
   "outputs": [],
   "source": [
    "fortecubeview.geom(molecule = h2o)"
   ]
  },
  {
   "cell_type": "code",
   "execution_count": null,
   "metadata": {},
   "outputs": [],
   "source": [
    "fortecubeview.vib('output.nh3.molden_normal_modes')"
   ]
  },
  {
   "cell_type": "code",
   "execution_count": null,
   "metadata": {},
   "outputs": [],
   "source": []
  }
 ],
 "metadata": {
  "kernelspec": {
   "display_name": "Python 3",
   "language": "python",
   "name": "python3"
  },
  "language_info": {
   "codemirror_mode": {
    "name": "ipython",
    "version": 3
   },
   "file_extension": ".py",
   "mimetype": "text/x-python",
   "name": "python",
   "nbconvert_exporter": "python",
   "pygments_lexer": "ipython3",
   "version": "3.7.6"
  }
 },
 "nbformat": 4,
 "nbformat_minor": 4
}
